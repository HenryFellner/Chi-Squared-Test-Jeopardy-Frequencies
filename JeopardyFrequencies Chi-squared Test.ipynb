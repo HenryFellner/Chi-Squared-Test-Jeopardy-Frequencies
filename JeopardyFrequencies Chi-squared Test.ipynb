{
 "cells": [
  {
   "cell_type": "markdown",
   "metadata": {
    "collapsed": true
   },
   "source": [
    "# Searching for Patterns in Jeopardy Questions\n",
    "\n",
    "The TV show Jeopardy is one of the longest running game-shows of all-time, and to this day is one of the most respected trivia-based games around. It is particularly interesting to data scientists for its sheer volume. Every episode has over fifty trivia questions and answers, with new episodes airing almost every weekday. \n",
    "\n",
    "We want to look at a dataset containing 20,000 Jeopardy questions to look for patterns. The dataset can be found [here]('https://www.reddit.com/r/datasets/comments/1uyd0t/200000_jeopardy_questions_in_a_json_file/')."
   ]
  },
  {
   "cell_type": "code",
   "execution_count": 1,
   "metadata": {
    "collapsed": false,
    "scrolled": true
   },
   "outputs": [
    {
     "name": "stdout",
     "output_type": "stream",
     "text": [
      "   Show Number    Air Date      Round                         Category  Value  \\\n",
      "0         4680  2004-12-31  Jeopardy!                          HISTORY   $200   \n",
      "1         4680  2004-12-31  Jeopardy!  ESPN's TOP 10 ALL-TIME ATHLETES   $200   \n",
      "2         4680  2004-12-31  Jeopardy!      EVERYBODY TALKS ABOUT IT...   $200   \n",
      "3         4680  2004-12-31  Jeopardy!                 THE COMPANY LINE   $200   \n",
      "4         4680  2004-12-31  Jeopardy!              EPITAPHS & TRIBUTES   $200   \n",
      "\n",
      "                                            Question      Answer  \n",
      "0  For the last 8 years of his life, Galileo was ...  Copernicus  \n",
      "1  No. 2: 1912 Olympian; football star at Carlisl...  Jim Thorpe  \n",
      "2  The city of Yuma in this state has a record av...     Arizona  \n",
      "3  In 1963, live on \"The Art Linkletter Show\", th...  McDonald's  \n",
      "4  Signer of the Dec. of Indep., framer of the Co...  John Adams  \n",
      "Index(['Show Number', ' Air Date', ' Round', ' Category', ' Value',\n",
      "       ' Question', ' Answer'],\n",
      "      dtype='object')\n",
      "<class 'pandas.core.frame.DataFrame'>\n",
      "RangeIndex: 19999 entries, 0 to 19998\n",
      "Data columns (total 7 columns):\n",
      "Show Number    19999 non-null int64\n",
      " Air Date      19999 non-null object\n",
      " Round         19999 non-null object\n",
      " Category      19999 non-null object\n",
      " Value         19999 non-null object\n",
      " Question      19999 non-null object\n",
      " Answer        19999 non-null object\n",
      "dtypes: int64(1), object(6)\n",
      "memory usage: 1.1+ MB\n",
      "None\n"
     ]
    }
   ],
   "source": [
    "import pandas as pd\n",
    "\n",
    "jeopardy = pd.read_csv('jeopardy.csv')\n",
    "\n",
    "print(jeopardy.head(5))\n",
    "print(jeopardy.columns)\n",
    "print(jeopardy.info())"
   ]
  },
  {
   "cell_type": "markdown",
   "metadata": {},
   "source": [
    "We can see a few things from this basic overview of the dataset. The values are stored as strings rather than integers, and some of the columns seem to have strange spacing around the names. None of the columns contain null values.\n",
    "\n",
    "Let's fix the column names."
   ]
  },
  {
   "cell_type": "code",
   "execution_count": 2,
   "metadata": {
    "collapsed": false
   },
   "outputs": [
    {
     "name": "stdout",
     "output_type": "stream",
     "text": [
      "Index(['Show Number', 'Air Date', 'Round', 'Category', 'Value', 'Question',\n",
      "       'Answer'],\n",
      "      dtype='object')\n"
     ]
    }
   ],
   "source": [
    "jeopardy.columns = ['Show Number', 'Air Date', 'Round', 'Category', 'Value', 'Question', 'Answer']\n",
    "print(jeopardy.columns)"
   ]
  },
  {
   "cell_type": "markdown",
   "metadata": {},
   "source": [
    "That's swell. The gimmick of Jeopardy is that the host reads contestants the answer and the contestant gives back the question. However, that is all a matter of framing. The dataset we're using uses the contestant response as the *answer*, so for the sake of our analysis, we will too."
   ]
  },
  {
   "cell_type": "markdown",
   "metadata": {},
   "source": [
    "## Normalizing Text\n",
    "\n",
    "If we want to take in the text from the questions and use it to draw conclusions, we need it to be uniform throughout so we can decipher it with code. So we need to normalize all of the question text."
   ]
  },
  {
   "cell_type": "code",
   "execution_count": 3,
   "metadata": {
    "collapsed": false
   },
   "outputs": [],
   "source": [
    "import re\n",
    "\n",
    "def txt_normalizer(q):\n",
    "    q = q.lower()\n",
    "    q = re.sub(\"[^A-Za-z0-9\\s]\", \"\", q)\n",
    "    q = re.sub(\"\\s+\", \" \", q)\n",
    "    return q\n",
    "\n",
    "jeopardy['clean_question'] = jeopardy['Question'].apply(txt_normalizer)\n",
    "jeopardy['clean_answer'] = jeopardy['Answer'].apply(txt_normalizer)"
   ]
  },
  {
   "cell_type": "markdown",
   "metadata": {},
   "source": [
    "### Normalizing Other Categories\n",
    "\n",
    "We have now cleaned our questions and answers to have no whitespace on the edges, be lowercase, and have their punctuation removed. However, other columns, namely the \"Value\" and \"Air Date\" columns are wrong. The former should be numeric, i.e. integer, an the latter should be a datetime object."
   ]
  },
  {
   "cell_type": "code",
   "execution_count": 4,
   "metadata": {
    "collapsed": false
   },
   "outputs": [
    {
     "name": "stdout",
     "output_type": "stream",
     "text": [
      "   Show Number    Air Date      Round                         Category Value  \\\n",
      "0         4680  2004-12-31  Jeopardy!                          HISTORY  $200   \n",
      "1         4680  2004-12-31  Jeopardy!  ESPN's TOP 10 ALL-TIME ATHLETES  $200   \n",
      "2         4680  2004-12-31  Jeopardy!      EVERYBODY TALKS ABOUT IT...  $200   \n",
      "3         4680  2004-12-31  Jeopardy!                 THE COMPANY LINE  $200   \n",
      "4         4680  2004-12-31  Jeopardy!              EPITAPHS & TRIBUTES  $200   \n",
      "\n",
      "                                            Question      Answer  \\\n",
      "0  For the last 8 years of his life, Galileo was ...  Copernicus   \n",
      "1  No. 2: 1912 Olympian; football star at Carlisl...  Jim Thorpe   \n",
      "2  The city of Yuma in this state has a record av...     Arizona   \n",
      "3  In 1963, live on \"The Art Linkletter Show\", th...  McDonald's   \n",
      "4  Signer of the Dec. of Indep., framer of the Co...  John Adams   \n",
      "\n",
      "                                      clean_question clean_answer  \\\n",
      "0  for the last 8 years of his life galileo was u...   copernicus   \n",
      "1  no 2 1912 olympian football star at carlisle i...   jim thorpe   \n",
      "2  the city of yuma in this state has a record av...      arizona   \n",
      "3  in 1963 live on the art linkletter show this c...    mcdonalds   \n",
      "4  signer of the dec of indep framer of the const...   john adams   \n",
      "\n",
      "   clean_value clean_date  \n",
      "0          200 2004-12-31  \n",
      "1          200 2004-12-31  \n",
      "2          200 2004-12-31  \n",
      "3          200 2004-12-31  \n",
      "4          200 2004-12-31  \n",
      "<class 'pandas.core.frame.DataFrame'>\n",
      "RangeIndex: 19999 entries, 0 to 19998\n",
      "Data columns (total 11 columns):\n",
      "Show Number       19999 non-null int64\n",
      "Air Date          19999 non-null object\n",
      "Round             19999 non-null object\n",
      "Category          19999 non-null object\n",
      "Value             19999 non-null object\n",
      "Question          19999 non-null object\n",
      "Answer            19999 non-null object\n",
      "clean_question    19999 non-null object\n",
      "clean_answer      19999 non-null object\n",
      "clean_value       19999 non-null int64\n",
      "clean_date        19999 non-null datetime64[ns]\n",
      "dtypes: datetime64[ns](1), int64(2), object(8)\n",
      "memory usage: 1.7+ MB\n",
      "None\n"
     ]
    }
   ],
   "source": [
    "def dollar_normalizer(v):\n",
    "    v = re.sub(\"[^A-Za-z0-9\\s]\", \"\", v)\n",
    "    try:\n",
    "        v = int(v)\n",
    "    except Exception:\n",
    "        v = 0\n",
    "    return v\n",
    "\n",
    "jeopardy['clean_value'] = jeopardy['Value'].apply(dollar_normalizer)\n",
    "jeopardy['clean_date'] = pd.to_datetime(jeopardy['Air Date'])\n",
    "print(jeopardy.head(5))\n",
    "print(jeopardy.info())"
   ]
  },
  {
   "cell_type": "markdown",
   "metadata": {},
   "source": [
    "Based on the first five rows and the info description, it seems the clean versions of all four columns work as intended."
   ]
  },
  {
   "cell_type": "markdown",
   "metadata": {},
   "source": [
    "## Is Jeopardy Repeating Old Questions?\n",
    "\n",
    "We can't say for sure. However, we can see if in our dataset they are or are not. We can loop through our dataset in order of air date, and compare each new question to the previous questions to check for repeats, then add the new question to the vocab list from the previous questions."
   ]
  },
  {
   "cell_type": "code",
   "execution_count": 5,
   "metadata": {
    "collapsed": false
   },
   "outputs": [
    {
     "name": "stdout",
     "output_type": "stream",
     "text": [
      "0.6894031359073245\n",
      "       Show Number    Air Date             Round         Category Value  \\\n",
      "19325           10  1984-09-21   Final Jeopardy!  U.S. PRESIDENTS  None   \n",
      "19301           10  1984-09-21  Double Jeopardy!     LABOR UNIONS  $200   \n",
      "19302           10  1984-09-21  Double Jeopardy!             1789  $200   \n",
      "\n",
      "                                                Question              Answer  \\\n",
      "19325  Adventurous 26th president, he was 1st to ride...  Theodore Roosevelt   \n",
      "19301           Notorious labor leader missing since '75         Jimmy Hoffa   \n",
      "19302  Washington proclaimed Nov. 26, 1789 this first...        Thanksgiving   \n",
      "\n",
      "                                          clean_question        clean_answer  \\\n",
      "19325  adventurous 26th president he was 1st to ride ...  theodore roosevelt   \n",
      "19301            notorious labor leader missing since 75         jimmy hoffa   \n",
      "19302  washington proclaimed nov 26 1789 this first n...        thanksgiving   \n",
      "\n",
      "       clean_value clean_date  question_overlap  \n",
      "19325            0 1984-09-21               0.0  \n",
      "19301          200 1984-09-21               0.0  \n",
      "19302          200 1984-09-21               0.0  \n",
      "      Show Number    Air Date             Round          Category Value  \\\n",
      "1955         6294  2012-01-19  Double Jeopardy!               4 N  $800   \n",
      "1945         6294  2012-01-19  Double Jeopardy!  AMERICAN HISTORY  $400   \n",
      "1922         6294  2012-01-19         Jeopardy!   THAT'S BUSINESS  $400   \n",
      "\n",
      "                                               Question         Answer  \\\n",
      "1955  \"U\" know it means not deliberate; I'm sorry, t...  unintentional   \n",
      "1945  In December 1974 this former New York governor...    Rockefeller   \n",
      "1922  In 1997 Tyco International moved to this U.K. ...        Bermuda   \n",
      "\n",
      "                                         clean_question   clean_answer  \\\n",
      "1955  u know it means not deliberate im sorry that s...  unintentional   \n",
      "1945  in december 1974 this former new york governor...    rockefeller   \n",
      "1922  in 1997 tyco international moved to this uk te...        bermuda   \n",
      "\n",
      "      clean_value clean_date  question_overlap  \n",
      "1955          800 2012-01-19               1.0  \n",
      "1945          400 2012-01-19               1.0  \n",
      "1922          400 2012-01-19               1.0  \n"
     ]
    }
   ],
   "source": [
    "question_overlap = []\n",
    "terms_used = set()\n",
    "jeopardy = jeopardy.sort_values('clean_date')\n",
    "\n",
    "for i, row in jeopardy.iterrows():\n",
    "    split_question = row['clean_question'].split(\" \")\n",
    "    split_question = [w for w in split_question if len(w) > 5]\n",
    "    \n",
    "    match_count = 0\n",
    "    match_rate = 0\n",
    "    for w in split_question:\n",
    "        if w in terms_used:\n",
    "            match_count += 1\n",
    "        terms_used.add(w)\n",
    "    \n",
    "    if len(split_question) > 0:\n",
    "        match_rate = match_count/len(split_question)\n",
    "    question_overlap.append(match_rate)\n",
    "jeopardy[\"question_overlap\"] = question_overlap\n",
    "print(jeopardy[\"question_overlap\"].mean())\n",
    "\n",
    "print(jeopardy.head(3))\n",
    "print(jeopardy.tail(3))"
   ]
  },
  {
   "cell_type": "markdown",
   "metadata": {},
   "source": [
    "We were able to find out what percent of each row's question's words appeared in a previous question's words. On average, 69% of each row's words appeared previously. \n",
    "\n",
    "We can see that at the beginning of the dataset, no words matched previously. That makes sense as the first questions aired didn't have previous questions to match. By the end, there were full matches."
   ]
  },
  {
   "cell_type": "markdown",
   "metadata": {},
   "source": [
    "## Focusing on High Value Questions\n",
    "\n",
    "To be the most profitable on jeopardy, it is most important to correctly answer the questions worth more money. We can match terms to higher values through a chi-squared test. To start, let's sort the questions into two values: High and low.\n",
    "\n",
    "Questions go from 200 dollars to 2000 dollars, so we will designate values of 800 or lower as low, and 800 or higher as high. "
   ]
  },
  {
   "cell_type": "code",
   "execution_count": 32,
   "metadata": {
    "collapsed": true
   },
   "outputs": [],
   "source": [
    "def high_low(row):\n",
    "    if row['clean_value'] > 800:\n",
    "        value = 1\n",
    "    else:\n",
    "        value = 0\n",
    "    return value\n",
    "\n",
    "jeopardy['high_value'] = jeopardy.apply(high_low, axis  = 1)\n",
    "\n",
    "def h_l_count(word):\n",
    "    low_count = 0\n",
    "    high_count = 0\n",
    "    for i, row in jeopardy.iterrows():\n",
    "        split_q = row['clean_question'].split(\" \")\n",
    "        if word in split_q:\n",
    "            if row['high_value'] == 1:\n",
    "                high_count += 1\n",
    "            else:\n",
    "                low_count += 1\n",
    "    return (high_count, low_count)"
   ]
  },
  {
   "cell_type": "markdown",
   "metadata": {},
   "source": [
    "This function can count the amount of times a word appears in high value questions and low value questions, and it returns both. We can see how it does with a random sample from the dataset."
   ]
  },
  {
   "cell_type": "code",
   "execution_count": 33,
   "metadata": {
    "collapsed": false
   },
   "outputs": [
    {
     "name": "stdout",
     "output_type": "stream",
     "text": [
      "['protectors', 'heyday', 'moravia', 'coverage', 'examples', 'guerrero', 'hirofumi', 'indents', 'muriel', 'bullfrog']\n"
     ]
    },
    {
     "data": {
      "text/plain": [
       "[(0, 2),\n",
       " (1, 0),\n",
       " (0, 1),\n",
       " (2, 0),\n",
       " (1, 8),\n",
       " (1, 0),\n",
       " (0, 1),\n",
       " (0, 1),\n",
       " (1, 2),\n",
       " (0, 1)]"
      ]
     },
     "execution_count": 33,
     "metadata": {},
     "output_type": "execute_result"
    }
   ],
   "source": [
    "import random\n",
    "\n",
    "comparison_terms = random.sample(terms_used,10)\n",
    "observed_expected = []\n",
    "\n",
    "for term in comparison_terms:\n",
    "    x = h_l_count(term)\n",
    "    observed_expected.append(x)\n",
    "    \n",
    "print(comparison_terms)\n",
    "observed_expected"
   ]
  },
  {
   "cell_type": "markdown",
   "metadata": {},
   "source": [
    "## Applying Chi-squared Test\n",
    "\n",
    "We now can look to see if the values from our sample are expected or not through a chi-squared test. We can find our expected values by looking at the number of high_value rows and low_value rows. "
   ]
  },
  {
   "cell_type": "code",
   "execution_count": 34,
   "metadata": {
    "collapsed": false
   },
   "outputs": [
    {
     "name": "stdout",
     "output_type": "stream",
     "text": [
      "5734\n"
     ]
    }
   ],
   "source": [
    "high_value_count = jeopardy[jeopardy[\"high_value\"] == 1].shape[0]\n",
    "low_value_count = jeopardy[jeopardy[\"high_value\"] == 0].shape[0]"
   ]
  },
  {
   "cell_type": "markdown",
   "metadata": {},
   "source": [
    "Next we run our chi-squared test. We can loop through our observed values, and sum the low counts and high counts to get the total counts for each term in our sample.\n",
    "\n",
    "Then we can divide this by the total rows to get the proportion for the dataset.\n",
    "\n",
    "Then we get the expected values by multiplying the rate of high/low values by the overall rate the term appears in the dataset.\n",
    "\n",
    "Lastly, we make the observed and expected values into arrays to enter them into the chi-square function to get our results."
   ]
  },
  {
   "cell_type": "code",
   "execution_count": 36,
   "metadata": {
    "collapsed": false
   },
   "outputs": [
    {
     "data": {
      "text/plain": [
       "[Power_divergenceResult(statistic=0.803925692253768, pvalue=0.3699222378079571),\n",
       " Power_divergenceResult(statistic=2.487792117195675, pvalue=0.11473257634454047),\n",
       " Power_divergenceResult(statistic=0.401962846126884, pvalue=0.5260772985705469),\n",
       " Power_divergenceResult(statistic=4.97558423439135, pvalue=0.025707519787911092),\n",
       " Power_divergenceResult(statistic=1.3570460299240277, pvalue=0.24405008712856013),\n",
       " Power_divergenceResult(statistic=2.487792117195675, pvalue=0.11473257634454047),\n",
       " Power_divergenceResult(statistic=0.401962846126884, pvalue=0.5260772985705469),\n",
       " Power_divergenceResult(statistic=0.401962846126884, pvalue=0.5260772985705469),\n",
       " Power_divergenceResult(statistic=0.03188116723440362, pvalue=0.8582887163235293),\n",
       " Power_divergenceResult(statistic=0.401962846126884, pvalue=0.5260772985705469)]"
      ]
     },
     "execution_count": 36,
     "metadata": {},
     "output_type": "execute_result"
    }
   ],
   "source": [
    "from scipy.stats import chisquare\n",
    "import numpy as np\n",
    "\n",
    "chi_squared = []\n",
    "for obs in observed_expected:\n",
    "    total = sum(obs)\n",
    "    total_prop = total / jeopardy.shape[0]\n",
    "    high_value_exp = total_prop * high_value_count\n",
    "    low_value_exp = total_prop * low_value_count\n",
    "    \n",
    "    observed = np.array([obs[0], obs[1]])\n",
    "    expected = np.array([high_value_exp, low_value_exp])\n",
    "    chi_squared.append(chisquare(observed, expected))\n",
    "\n",
    "chi_squared"
   ]
  },
  {
   "cell_type": "markdown",
   "metadata": {},
   "source": [
    "For our random sample, only one word had a signfiicant divergence between high and low value questions, but with a frequency still of only 2 this is hardly significant. Splitting questions into individual words does not have the frequency required to draw conclusions on whether words are more or less common in high or low value questions. To draw better conclusions, terms should be broken into groups or phrases or categories, and have the frequency at which a word within that group appears be measured. In addition, the dataset should be expanded beyond the 20,000 rows used here."
   ]
  },
  {
   "cell_type": "markdown",
   "metadata": {},
   "source": [
    "## Conclusion\n",
    "\n",
    "While this analysis has not given us the key to winning on jeopardy, it has given us the ability to quickly sift through a dataset to see if words occur frequently or not, and it has shown us that words do indeed repeat within jeopardy questions. To take this analysis further, in the future the words could be broken down into category. Looking at questions with a high-rate of overlap could get a sense of which questions are repeats. Some of these repeats should be manually investigated to see if they truly do or do not repeat. "
   ]
  }
 ],
 "metadata": {
  "kernelspec": {
   "display_name": "Python 3",
   "language": "python",
   "name": "python3"
  },
  "language_info": {
   "codemirror_mode": {
    "name": "ipython",
    "version": 3
   },
   "file_extension": ".py",
   "mimetype": "text/x-python",
   "name": "python",
   "nbconvert_exporter": "python",
   "pygments_lexer": "ipython3",
   "version": "3.4.3"
  }
 },
 "nbformat": 4,
 "nbformat_minor": 0
}
